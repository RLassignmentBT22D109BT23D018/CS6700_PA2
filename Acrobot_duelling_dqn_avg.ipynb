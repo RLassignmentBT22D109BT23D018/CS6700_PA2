{
  "cells": [
    {
      "cell_type": "code",
      "execution_count": 1,
      "metadata": {
        "id": "e3UE_XkZrzo2"
      },
      "outputs": [],
      "source": [
        "import os\n",
        "import numpy as np\n",
        "import torch\n",
        "import torch.nn as nn\n",
        "import torch.nn.functional as F\n",
        "import torch.optim as optim\n",
        "import gym\n",
        "import time\n",
        "from collections import namedtuple, deque\n",
        "import random\n",
        "from matplotlib import pyplot as plt\n",
        "import pickle"
      ]
    },
    {
      "cell_type": "code",
      "execution_count": 2,
      "metadata": {
        "id": "OZHBplA6rzo3",
        "outputId": "a44b086e-362c-47d8-e997-917a676372b8"
      },
      "outputs": [
        {
          "data": {
            "text/plain": [
              "device(type='cpu')"
            ]
          },
          "execution_count": 2,
          "metadata": {},
          "output_type": "execute_result"
        }
      ],
      "source": [
        "device = torch.device(\"cuda:0\" if torch.cuda.is_available() else \"cpu\")\n",
        "device"
      ]
    },
    {
      "cell_type": "code",
      "execution_count": 3,
      "metadata": {
        "id": "_uE6M71rrzo4"
      },
      "outputs": [],
      "source": [
        "class DuellingDQN(nn.Module):\n",
        "    def __init__(self,\n",
        "                 num_states = 4,\n",
        "                 num_actions = 2,\n",
        "                 hidden_size1 = 64,\n",
        "                 hidden_size2 = 128,\n",
        "                 Case = 'Avg'):\n",
        "        self.Case = Case\n",
        "        super(DuellingDQN, self).__init__()\n",
        "        self.fc1 = nn.Sequential(nn.Linear(num_states, hidden_size1),\n",
        "                                 nn.ReLU())\n",
        "        self.val = nn.Sequential(nn.Linear(hidden_size1,hidden_size2),\n",
        "                                 nn.ReLU(),\n",
        "                                 nn.Linear(hidden_size2,1))\n",
        "        self.adv = nn.Sequential(nn.Linear(hidden_size1,hidden_size2),\n",
        "                                 nn.ReLU(),\n",
        "                                 nn.Linear(hidden_size2,num_actions))\n",
        "\n",
        "    def forward(self,x):\n",
        "        out_1 = self.fc1(x)\n",
        "        val_out = self.val(out_1) \n",
        "        adv_out = self.adv(out_1)\n",
        "\n",
        "        if self.Case == 'Avg':\n",
        "            adv_ = torch.mean(adv_out, dim = -1)\n",
        "            adv_ = torch.unsqueeze(adv_,-1)\n",
        "\n",
        "        if self.Case == 'Max':\n",
        "            adv_,_ = torch.max(adv_out, dim = -1)\n",
        "            adv_ = torch.unsqueeze(adv_,-1)\n",
        "        Q_val = val_out + (adv_out- adv_)\n",
        "\n",
        "        return Q_val.type(torch.DoubleTensor)\n"
      ]
    },
    {
      "cell_type": "code",
      "execution_count": 4,
      "metadata": {
        "id": "2syB-MmDrzo4"
      },
      "outputs": [],
      "source": [
        "class MemoryBuffer():\n",
        "    def __init__(self,buffer_size, batch_size):\n",
        "        self.buffer_size = buffer_size\n",
        "        self.batch_size = batch_size\n",
        "        #self.num_action = num_action\n",
        "        self.experience= namedtuple('env_data',['curr_state', 'action','reward','next_state','done'])\n",
        "        self.memory_deque = deque(maxlen = self.buffer_size)\n",
        "\n",
        "    def add_experience(self,curr_state, action, reward, next_state,done):\n",
        "        self.memory_deque.append(self.experience(curr_state, action, reward, next_state, done))\n",
        "\n",
        "    def sample(self):\n",
        "        sampled_experience = random.sample(self.memory_deque,k = self.batch_size)\n",
        "        curr_states = torch.from_numpy(np.vstack([sampled_experience[i].curr_state for i in range(len(sampled_experience))]))\n",
        "        next_states = torch.from_numpy(np.vstack([sampled_experience[i].next_state for i in range(len(sampled_experience))]))\n",
        "        rewards = torch.from_numpy(np.vstack([sampled_experience[i].reward for i in range(len(sampled_experience))]))\n",
        "        actions = torch.from_numpy(np.vstack([sampled_experience[i].action for i in range(len(sampled_experience))]))\n",
        "        dones = torch.from_numpy(np.vstack([sampled_experience[i].done for i in range(len(sampled_experience))]))\n",
        "\n",
        "        return curr_states, actions, rewards, next_states, dones\n",
        "\n"
      ]
    },
    {
      "cell_type": "code",
      "execution_count": 5,
      "metadata": {
        "id": "TJAoVuGDrzo4"
      },
      "outputs": [],
      "source": [
        "class Agent_DQN():\n",
        "    def __init__(self, env,\n",
        "                 num_actions,\n",
        "                 num_states,\n",
        "                 gamma = 0.99,\n",
        "                 batch_size = 64,\n",
        "                 lr = 1e-2,\n",
        "                 hidden_size1 = 64,\n",
        "                 hidden_size2 = 128,\n",
        "                 Case = 'Avg',\n",
        "                 eps_greedy = True):\n",
        "        self.env = env\n",
        "        self.num_actions = num_actions\n",
        "        self.num_states = num_states\n",
        "        self.hidden_size1 = hidden_size1\n",
        "        self.hidden_size2 = hidden_size2\n",
        "        self.eps_greedy = eps_greedy\n",
        "        #self.policy_param = policy_param\n",
        "        self.batch_size = batch_size\n",
        "        self.gamma = gamma\n",
        "\n",
        "        self.device = torch.device(\"cuda:0\" if torch.cuda.is_available() else \"cpu\")\n",
        "\n",
        "        self.gamma = torch.tensor(self.gamma).to(self.device)\n",
        "\n",
        "        self.onlineQNet = DuellingDQN(num_states=self.num_states,\n",
        "                                      num_actions= self.num_actions,\n",
        "                                      hidden_size1=self.hidden_size1,\n",
        "                                      hidden_size2=self.hidden_size2,\n",
        "                                      Case = Case).to(self.device)\n",
        "        self.targetQnet = DuellingDQN(num_states=self.num_states,\n",
        "                                      num_actions= self.num_actions,\n",
        "                                      hidden_size1=self.hidden_size1,\n",
        "                                      hidden_size2=self.hidden_size2,\n",
        "                                      Case = Case).to(self.device)\n",
        "\n",
        "        for param in self.targetQnet.parameters():\n",
        "            param.requires_grad = False\n",
        "\n",
        "        self.targetQnet.load_state_dict(self.onlineQNet.state_dict())\n",
        "        self.optimiser = torch.optim.Adam(self.onlineQNet.parameters(), lr = lr)\n",
        "        self.memory_replay = MemoryBuffer(buffer_size = int(1e5), batch_size=self.batch_size)\n",
        "\n",
        "    def choose_action(self, q_vals, epsilon):\n",
        "        if self.eps_greedy == True:\n",
        "            rand_num = np.random.random()\n",
        "            if rand_num < epsilon:\n",
        "                return np.random.choice(np.arange(self.num_actions))\n",
        "            else:\n",
        "                return np.argmax(q_vals.detach().numpy())\n",
        "\n",
        "    def update_wt(self, experience):\n",
        "        curr_state, action, reward, next_state,done = experience\n",
        "        done = done.type('torch.DoubleTensor')\n",
        "\n",
        "        action = action.to(self.device)\n",
        "        curr_state = curr_state.to(self.device)\n",
        "        next_state = next_state.to(self.device)\n",
        "\n",
        "        reward = reward.to(self.device)\n",
        "        done = done.to(self.device)\n",
        "\n",
        "        with torch.no_grad():\n",
        "            onlineQ_next = self.onlineQNet(next_state).to(self.device)\n",
        "            targetQ_next = self.targetQnet(next_state).to(self.device)\n",
        "            online_max_action = torch.argmax(onlineQ_next, dim=1, keepdim=True).to(self.device)\n",
        "            y = reward + (1 - done) * self.gamma * targetQ_next.gather(1, online_max_action.long())\n",
        "        loss = F.mse_loss(self.onlineQNet(curr_state).to(self.device).gather(1, action.long()), y)\n",
        "        self.optimiser.zero_grad()\n",
        "        loss.backward()\n",
        "        self.optimiser.step()\n",
        "\n",
        "    def train(self, epochs = 1000, update_steps = 5, epsilon = 0.1, epsilon_decay = 0.995, epsilon_min = 0.001, printing = True):\n",
        "        learn_steps = 0\n",
        "        score_monitor = []\n",
        "        for ep in range(epochs):\n",
        "            \n",
        "            curr_state = self.env.reset()[0]\n",
        "            done = False\n",
        "            i = 0\n",
        "            ep_reward = 0\n",
        "            while not done:\n",
        "\n",
        "                q_vals = self.onlineQNet(torch.tensor(curr_state, dtype = torch.float32).to(self.device))\n",
        "                action = self.choose_action(q_vals, epsilon)\n",
        "                next_state, reward, done, _, _ = self.env.step(action)\n",
        "                ep_reward += reward\n",
        "                self.memory_replay.add_experience(curr_state,action, reward, next_state,done)\n",
        "                if len(self.memory_replay.memory_deque) >= self.batch_size:\n",
        "                    #print(f'Training : {len(self.memory_replay.memory_deque)}')\n",
        "                    batch_experience = self.memory_replay.sample()\n",
        "                    self.update_wt(batch_experience)\n",
        "                    learn_steps +=1\n",
        "                    if learn_steps % update_steps == 0:\n",
        "                        self.targetQnet.load_state_dict(self.onlineQNet.state_dict())\n",
        "                        epsilon = max(epsilon_min, epsilon_decay*epsilon)\n",
        "                curr_state = next_state\n",
        "                i+=1\n",
        "                if i>=500:\n",
        "                    break\n",
        "            score_monitor.append(ep_reward)\n",
        "            if printing:\n",
        "                if ep%1 == 0:\n",
        "                    print(f'epoch = {ep}: reward = {ep_reward}')\n",
        "        return score_monitor\n"
      ]
    },
    {
      "cell_type": "code",
      "execution_count": null,
      "metadata": {
        "id": "BIt96IxUrzo7"
      },
      "outputs": [],
      "source": [
        "env = gym.make('Acrobot-v1', render_mode='rgb_array')\n",
        "env.reset()\n",
        "agent = Agent_DQN(env=env,\n",
        "                  num_actions=3,\n",
        "                  num_states=6,\n",
        "                  gamma = 0.99,\n",
        "                  batch_size = 32,\n",
        "                  lr = 1e-3,\n",
        "                  hidden_size1 = 64,\n",
        "                  hidden_size2 = 128,\n",
        "                  Case = 'Avg',\n",
        "                  eps_greedy = True)\n",
        "\n",
        "score = agent.train(epochs = 1000, update_steps = 4, epsilon = 0.1, epsilon_decay = 0.995, epsilon_min = 0.001, printing = True)"
      ]
    },
    {
      "cell_type": "markdown",
      "metadata": {
        "id": "HZgDyPvwrzo8"
      },
      "source": [
        "## 5 Runs"
      ]
    },
    {
      "cell_type": "code",
      "execution_count": 7,
      "metadata": {
        "id": "9f2IXkkJrzo9"
      },
      "outputs": [
        {
          "name": "stdout",
          "output_type": "stream",
          "text": [
            "run = 0\n",
            "1000 -91.838\n",
            "run = 1\n",
            "1000 -92.024\n",
            "run = 2\n",
            "1000 -92.403\n",
            "run = 3\n",
            "1000 -94.378\n",
            "run = 4\n",
            "1000 -92.028\n"
          ]
        }
      ],
      "source": [
        "epochs = 1000\n",
        "runs = 5\n",
        "scores_runs = np.zeros((runs, epochs))\n",
        "for i in range(runs):\n",
        "    print(f'run = {i}')\n",
        "    env = gym.make('Acrobot-v1', render_mode='rgb_array')\n",
        "    env.reset()\n",
        "    agent = Agent_DQN(env=env,\n",
        "                    num_actions=3,\n",
        "                    num_states=6,\n",
        "                    gamma = 0.99,\n",
        "                    batch_size = 32,\n",
        "                    lr = 1e-3,\n",
        "                    hidden_size1 = 64,\n",
        "                    hidden_size2 = 128,\n",
        "                    Case = 'Avg',\n",
        "                    eps_greedy = True)\n",
        "\n",
        "    score = agent.train(epochs = epochs, update_steps = 10, epsilon = 0.1, epsilon_decay = 0.995, epsilon_min = 0.001, printing = False)\n",
        "    print(len(score), np.mean(score))\n",
        "    scores_runs[i] = score"
      ]
    },
    {
      "cell_type": "code",
      "execution_count": 12,
      "metadata": {
        "id": "4Q3TJFnyrzo9",
        "outputId": "92a07fff-1c41-4d3e-f9e1-ebfb9c589aaf"
      },
      "outputs": [
        {
          "data": {
            "image/png": "[encoded data removed]",
            "text/plain": [
              "<Figure size 640x480 with 1 Axes>"
            ]
          },
          "metadata": {},
          "output_type": "display_data"
        }
      ],
      "source": [
        "mean_score = np.mean(scores_runs,axis = 0)\n",
        "se_score = np.std(scores_runs,axis = 0)\n",
        "episode = np.arange(0,epochs)\n",
        "max_line = -100* np.ones(epochs)\n",
        "plt.figure()\n",
        "plt.xlabel('Episodes')\n",
        "plt.ylabel('Episode reward')\n",
        "plt.plot(episode,mean_score)\n",
        "plt.plot(episode, max_line)\n",
        "plt.fill_between(episode,\n",
        "                 mean_score-se_score,\n",
        "                 mean_score+se_score,\n",
        "                 alpha = 0.3)\n",
        "#plt.ylim(0,550)\n",
        "plt.show()"
      ]
    },
    {
      "cell_type": "code",
      "execution_count": 9,
      "metadata": {},
      "outputs": [
        {
          "name": "stdout",
          "output_type": "stream",
          "text": [
            "Regret = 24.134199999999996\n"
          ]
        }
      ],
      "source": [
        "max_score = np.max(mean_score)\n",
        "regret = np.sum(max_score - mean_score)/epochs\n",
        "print(f'Regret = {regret}')"
      ]
    },
    {
      "cell_type": "code",
      "execution_count": 10,
      "metadata": {
        "id": "H04B-kpirzo-"
      },
      "outputs": [],
      "source": [
        "import pickle\n",
        "with open('acrobot_duelling_avg_last.pkl', 'wb') as file: \n",
        "      \n",
        "    # A new file will be created \n",
        "    pickle.dump(scores_runs, file) \n"
      ]
    },
    {
      "cell_type": "code",
      "execution_count": null,
      "metadata": {},
      "outputs": [],
      "source": []
    }
  ],
  "metadata": {
    "colab": {
      "provenance": []
    },
    "kernelspec": {
      "display_name": "dl_assignment",
      "language": "python",
      "name": "python3"
    },
    "language_info": {
      "codemirror_mode": {
        "name": "ipython",
        "version": 3
      },
      "file_extension": ".py",
      "mimetype": "text/x-python",
      "name": "python",
      "nbconvert_exporter": "python",
      "pygments_lexer": "ipython3",
      "version": "3.9.17"
    }
  },
  "nbformat": 4,
  "nbformat_minor": 0
}
